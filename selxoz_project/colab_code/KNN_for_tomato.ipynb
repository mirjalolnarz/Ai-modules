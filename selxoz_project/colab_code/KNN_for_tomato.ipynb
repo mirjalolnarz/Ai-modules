{
 "cells": [
  {
   "cell_type": "code",
   "execution_count": 1,
   "metadata": {
    "executionInfo": {
     "elapsed": 10784,
     "status": "ok",
     "timestamp": 1733561932087,
     "user": {
      "displayName": "Mirjalol Narzullayev",
      "userId": "03235431575959945784"
     },
     "user_tz": -300
    },
    "id": "h4TUatuh6jH0"
   },
   "outputs": [],
   "source": [
    "import numpy as np\n",
    "import os\n",
    "# from google.colab import drive\n",
    "from PIL import Image\n",
    "from tensorflow.keras.applications import VGG16\n",
    "from tensorflow.keras.applications import ResNet50\n",
    "from tensorflow.keras.applications.vgg16 import preprocess_input\n",
    "from sklearn.preprocessing import StandardScaler\n",
    "import pathlib"
   ]
  },
  {
   "cell_type": "code",
   "execution_count": 2,
   "metadata": {},
   "outputs": [
    {
     "name": "stdout",
     "output_type": "stream",
     "text": [
      "saolam\n"
     ]
    }
   ],
   "source": [
    "satr = ['sa', 'lom']\n",
    "print(satr[0] + 'olam')"
   ]
  },
  {
   "cell_type": "code",
   "execution_count": 44,
   "metadata": {
    "colab": {
     "base_uri": "https://localhost:8080/"
    },
    "executionInfo": {
     "elapsed": 448386,
     "status": "ok",
     "timestamp": 1733562382545,
     "user": {
      "displayName": "Mirjalol Narzullayev",
      "userId": "03235431575959945784"
     },
     "user_tz": -300
    },
    "id": "HPzeT-iU6qNW",
    "outputId": "4eaa3f12-c35c-4cdc-8fd9-2fa5be071123"
   },
   "outputs": [
    {
     "ename": "ValueError",
     "evalue": "Input 0 of layer \"resnet50\" is incompatible with the layer: expected shape=(None, 256, 256, 3), found shape=(1, 256, 256, 4)",
     "output_type": "error",
     "traceback": [
      "\u001b[1;31m---------------------------------------------------------------------------\u001b[0m",
      "\u001b[1;31mValueError\u001b[0m                                Traceback (most recent call last)",
      "Cell \u001b[1;32mIn[44], line 23\u001b[0m\n\u001b[0;32m     21\u001b[0m img_array \u001b[38;5;241m=\u001b[39m np\u001b[38;5;241m.\u001b[39marray(img)  \u001b[38;5;66;03m# Tasvirni numpy massiviga aylantirish\u001b[39;00m\n\u001b[0;32m     22\u001b[0m img_preprocessed \u001b[38;5;241m=\u001b[39m preprocess_input(img_array[np\u001b[38;5;241m.\u001b[39mnewaxis, \u001b[38;5;241m.\u001b[39m\u001b[38;5;241m.\u001b[39m\u001b[38;5;241m.\u001b[39m])  \u001b[38;5;66;03m# Tasvirni normalizatsiya qilish\u001b[39;00m\n\u001b[1;32m---> 23\u001b[0m features \u001b[38;5;241m=\u001b[39m \u001b[43mmodel_res_net\u001b[49m\u001b[38;5;241;43m.\u001b[39;49m\u001b[43mpredict\u001b[49m\u001b[43m(\u001b[49m\u001b[43mimg_preprocessed\u001b[49m\u001b[43m)\u001b[49m\u001b[38;5;241m.\u001b[39mflatten()\n\u001b[0;32m     24\u001b[0m X\u001b[38;5;241m.\u001b[39mappend(features)\n\u001b[0;32m     25\u001b[0m y\u001b[38;5;241m.\u001b[39mappend(label)\n",
      "File \u001b[1;32mc:\\Users\\mirja\\myenv\\Lib\\site-packages\\keras\\src\\utils\\traceback_utils.py:122\u001b[0m, in \u001b[0;36mfilter_traceback.<locals>.error_handler\u001b[1;34m(*args, **kwargs)\u001b[0m\n\u001b[0;32m    119\u001b[0m     filtered_tb \u001b[38;5;241m=\u001b[39m _process_traceback_frames(e\u001b[38;5;241m.\u001b[39m__traceback__)\n\u001b[0;32m    120\u001b[0m     \u001b[38;5;66;03m# To get the full stack trace, call:\u001b[39;00m\n\u001b[0;32m    121\u001b[0m     \u001b[38;5;66;03m# `keras.config.disable_traceback_filtering()`\u001b[39;00m\n\u001b[1;32m--> 122\u001b[0m     \u001b[38;5;28;01mraise\u001b[39;00m e\u001b[38;5;241m.\u001b[39mwith_traceback(filtered_tb) \u001b[38;5;28;01mfrom\u001b[39;00m \u001b[38;5;28;01mNone\u001b[39;00m\n\u001b[0;32m    123\u001b[0m \u001b[38;5;28;01mfinally\u001b[39;00m:\n\u001b[0;32m    124\u001b[0m     \u001b[38;5;28;01mdel\u001b[39;00m filtered_tb\n",
      "File \u001b[1;32mc:\\Users\\mirja\\myenv\\Lib\\site-packages\\keras\\src\\layers\\input_spec.py:245\u001b[0m, in \u001b[0;36massert_input_compatibility\u001b[1;34m(input_spec, inputs, layer_name)\u001b[0m\n\u001b[0;32m    243\u001b[0m \u001b[38;5;28;01mif\u001b[39;00m spec_dim \u001b[38;5;129;01mis\u001b[39;00m \u001b[38;5;129;01mnot\u001b[39;00m \u001b[38;5;28;01mNone\u001b[39;00m \u001b[38;5;129;01mand\u001b[39;00m dim \u001b[38;5;129;01mis\u001b[39;00m \u001b[38;5;129;01mnot\u001b[39;00m \u001b[38;5;28;01mNone\u001b[39;00m:\n\u001b[0;32m    244\u001b[0m     \u001b[38;5;28;01mif\u001b[39;00m spec_dim \u001b[38;5;241m!=\u001b[39m dim:\n\u001b[1;32m--> 245\u001b[0m         \u001b[38;5;28;01mraise\u001b[39;00m \u001b[38;5;167;01mValueError\u001b[39;00m(\n\u001b[0;32m    246\u001b[0m             \u001b[38;5;124mf\u001b[39m\u001b[38;5;124m'\u001b[39m\u001b[38;5;124mInput \u001b[39m\u001b[38;5;132;01m{\u001b[39;00minput_index\u001b[38;5;132;01m}\u001b[39;00m\u001b[38;5;124m of layer \u001b[39m\u001b[38;5;124m\"\u001b[39m\u001b[38;5;132;01m{\u001b[39;00mlayer_name\u001b[38;5;132;01m}\u001b[39;00m\u001b[38;5;124m\"\u001b[39m\u001b[38;5;124m is \u001b[39m\u001b[38;5;124m'\u001b[39m\n\u001b[0;32m    247\u001b[0m             \u001b[38;5;124m\"\u001b[39m\u001b[38;5;124mincompatible with the layer: \u001b[39m\u001b[38;5;124m\"\u001b[39m\n\u001b[0;32m    248\u001b[0m             \u001b[38;5;124mf\u001b[39m\u001b[38;5;124m\"\u001b[39m\u001b[38;5;124mexpected shape=\u001b[39m\u001b[38;5;132;01m{\u001b[39;00mspec\u001b[38;5;241m.\u001b[39mshape\u001b[38;5;132;01m}\u001b[39;00m\u001b[38;5;124m, \u001b[39m\u001b[38;5;124m\"\u001b[39m\n\u001b[0;32m    249\u001b[0m             \u001b[38;5;124mf\u001b[39m\u001b[38;5;124m\"\u001b[39m\u001b[38;5;124mfound shape=\u001b[39m\u001b[38;5;132;01m{\u001b[39;00mshape\u001b[38;5;132;01m}\u001b[39;00m\u001b[38;5;124m\"\u001b[39m\n\u001b[0;32m    250\u001b[0m         )\n",
      "\u001b[1;31mValueError\u001b[0m: Input 0 of layer \"resnet50\" is incompatible with the layer: expected shape=(None, 256, 256, 3), found shape=(1, 256, 256, 4)"
     ]
    }
   ],
   "source": [
    "######## Google Colab uchun fayl yo'li\n",
    "# drive.mount('/content/drive')\n",
    "# dataset_path = \"/content/drive/My Drive/Colab Notebooks/Agrar_uchun/v\"\n",
    "\n",
    "######## VS Code uchun fayl yo'li\n",
    "dataset_path = r'C:\\Users\\mirja\\myenv\\DjangoAPI\\selxoz_project\\edited_image'\n",
    "\n",
    "######## Umumiy \n",
    "class_folders = [os.path.join(dataset_path, folder) for folder in os.listdir(dataset_path) if os.path.isdir(os.path.join(dataset_path, folder))]\n",
    "\n",
    "X = []  # Xususiyatlar\n",
    "y = []  # Etiketkalar\n",
    "\n",
    "model_vgg = VGG16(weights='imagenet', include_top=False, input_shape=(256, 256, 3))\n",
    "model_res_net = ResNet50(weights='imagenet', include_top=False, input_shape=(256, 256, 3))\n",
    "\n",
    "\n",
    "for label, folder in enumerate(class_folders):  # Har bir sinf uchun\n",
    "    for image_file in os.listdir(folder):\n",
    "        img = Image.open(os.path.join(folder, image_file))# Tasvir 256x256 o'lchamga ega\n",
    "        img_array = np.array(img)  # Tasvirni numpy massiviga aylantirish\n",
    "        img_preprocessed = preprocess_input(img_array[np.newaxis, ...])  # Tasvirni normalizatsiya qilish\n",
    "        features = model_res_net.predict(img_preprocessed).flatten()\n",
    "        X.append(features)\n",
    "        y.append(label)\n",
    "\n",
    "X = np.array(X)\n",
    "y = np.array(y)\n",
    "\n",
    "print(f\"Shape of X: {X.shape}\")\n",
    "print(f\"Labels (y): {y}\")"
   ]
  },
  {
   "cell_type": "code",
   "execution_count": 43,
   "metadata": {},
   "outputs": [
    {
     "name": "stdout",
     "output_type": "stream",
     "text": [
      "['C:\\\\Users\\\\mirja\\\\myenv\\\\DjangoAPI\\\\selxoz_project\\\\edited_image\\\\Tomato___Bacterial_spot', 'C:\\\\Users\\\\mirja\\\\myenv\\\\DjangoAPI\\\\selxoz_project\\\\edited_image\\\\Tomato___Early_blight', 'C:\\\\Users\\\\mirja\\\\myenv\\\\DjangoAPI\\\\selxoz_project\\\\edited_image\\\\Tomato___healthy', 'C:\\\\Users\\\\mirja\\\\myenv\\\\DjangoAPI\\\\selxoz_project\\\\edited_image\\\\Tomato___Late_blight', 'C:\\\\Users\\\\mirja\\\\myenv\\\\DjangoAPI\\\\selxoz_project\\\\edited_image\\\\Tomato___Leaf_Mold', 'C:\\\\Users\\\\mirja\\\\myenv\\\\DjangoAPI\\\\selxoz_project\\\\edited_image\\\\Tomato___Septoria_leaf_spot', 'C:\\\\Users\\\\mirja\\\\myenv\\\\DjangoAPI\\\\selxoz_project\\\\edited_image\\\\Tomato___Spider_mites Two-spotted_spider_mite', 'C:\\\\Users\\\\mirja\\\\myenv\\\\DjangoAPI\\\\selxoz_project\\\\edited_image\\\\Tomato___Target_Spot', 'C:\\\\Users\\\\mirja\\\\myenv\\\\DjangoAPI\\\\selxoz_project\\\\edited_image\\\\Tomato___Tomato_mosaic_virus', 'C:\\\\Users\\\\mirja\\\\myenv\\\\DjangoAPI\\\\selxoz_project\\\\edited_image\\\\Tomato___Tomato_Yellow_Leaf_Curl_Virus']\n"
     ]
    }
   ],
   "source": [
    "print(class_folders)"
   ]
  },
  {
   "cell_type": "code",
   "execution_count": null,
   "metadata": {
    "executionInfo": {
     "elapsed": 1952,
     "status": "ok",
     "timestamp": 1733562384493,
     "user": {
      "displayName": "Mirjalol Narzullayev",
      "userId": "03235431575959945784"
     },
     "user_tz": -300
    },
    "id": "fk-H22ow6sxQ"
   },
   "outputs": [],
   "source": [
    "scaler = StandardScaler()\n",
    "X_normalized = scaler.fit_transform(X)"
   ]
  },
  {
   "cell_type": "code",
   "execution_count": null,
   "metadata": {
    "colab": {
     "base_uri": "https://localhost:8080/"
    },
    "executionInfo": {
     "elapsed": 7,
     "status": "ok",
     "timestamp": 1733562398162,
     "user": {
      "displayName": "Mirjalol Narzullayev",
      "userId": "03235431575959945784"
     },
     "user_tz": -300
    },
    "id": "nFtLTWsdF7tr",
    "outputId": "da7b59e8-d91f-40cb-8789-76991b771d2d"
   },
   "outputs": [],
   "source": [
    "print(f\"Shape of X: {X_normalized.shape}\")\n",
    "print(f\"Labels (y): {y.shape}\")"
   ]
  },
  {
   "cell_type": "code",
   "execution_count": null,
   "metadata": {
    "colab": {
     "base_uri": "https://localhost:8080/"
    },
    "executionInfo": {
     "elapsed": 252753,
     "status": "ok",
     "timestamp": 1733562692430,
     "user": {
      "displayName": "Mirjalol Narzullayev",
      "userId": "03235431575959945784"
     },
     "user_tz": -300
    },
    "id": "2EbVkJiYIJgC",
    "outputId": "0252af70-90fa-47da-95a9-3f229cd75a8f"
   },
   "outputs": [],
   "source": [
    "from sklearn.neighbors import KNeighborsClassifier\n",
    "from sklearn.model_selection import train_test_split\n",
    "from sklearn.model_selection import GridSearchCV\n",
    "\n",
    "# Ma'lumotlarni bo'lish\n",
    "X_train, X_test, y_train, y_test = train_test_split(X_normalized, y, test_size=0.2, random_state=42)\n",
    "\n",
    "param_grid = {'n_neighbors': range(1, 21)}\n",
    "grid_search = GridSearchCV(KNeighborsClassifier(), param_grid, cv=5)\n",
    "grid_search.fit(X_train, y_train)\n",
    "\n",
    "best_k = grid_search.best_params_['n_neighbors']\n",
    "best_accuracy = grid_search.best_score_\n",
    "\n",
    "print(f\"Best k: {best_k}\")\n",
    "print(f\"Best cross-validated accuracy: {best_accuracy * 100:.2f}%\")\n",
    "\n",
    "# KNN modelini yaratish\n",
    "KNN = KNeighborsClassifier(n_neighbors=best_k)\n",
    "KNN.fit(X_train, y_train)\n",
    "\n",
    "# Modelni sinash\n",
    "accuracy = KNN.score(X_test, y_test)\n",
    "print(f\"KNN model accuracy: {accuracy * 100:.2f}%\")\n",
    "\n",
    "\n"
   ]
  },
  {
   "cell_type": "code",
   "execution_count": null,
   "metadata": {
    "colab": {
     "base_uri": "https://localhost:8080/"
    },
    "executionInfo": {
     "elapsed": 8,
     "status": "ok",
     "timestamp": 1733562692431,
     "user": {
      "displayName": "Mirjalol Narzullayev",
      "userId": "03235431575959945784"
     },
     "user_tz": -300
    },
    "id": "8dw4jsi-kS7s",
    "outputId": "5b53b014-25cd-4b6a-91b0-085a8438d8f6"
   },
   "outputs": [],
   "source": [
    "print(f\"Shape of X: {X_train.shape}\")\n",
    "print(f\"Labels (y): {y}\")\n"
   ]
  },
  {
   "cell_type": "code",
   "execution_count": null,
   "metadata": {
    "colab": {
     "base_uri": "https://localhost:8080/"
    },
    "executionInfo": {
     "elapsed": 14267,
     "status": "ok",
     "timestamp": 1733563175020,
     "user": {
      "displayName": "Mirjalol Narzullayev",
      "userId": "03235431575959945784"
     },
     "user_tz": -300
    },
    "id": "94D7WgBMO_6N",
    "outputId": "8beaa0c0-7011-4ab9-b447-6da289d24806"
   },
   "outputs": [],
   "source": [
    "from sklearn.decomposition import PCA\n",
    "\n",
    "pca = PCA(n_components=100)  # Faqat 100 asosiy xususiyat\n",
    "X_train_pca = pca.fit_transform(X_train)\n",
    "X_test_pca = pca.transform(X_test)\n",
    "\n",
    "knn = KNeighborsClassifier(n_neighbors=4)\n",
    "knn.fit(X_train_pca, y_train)\n",
    "\n",
    "accuracy = knn.score(X_test_pca, y_test)\n",
    "print(f\"Accuracy after PCA: {accuracy * 100:.2f}%\")\n",
    "print(f\"Shape of X: {X_train_pca.shape}\")\n",
    "print(f\"Labels (y): {y}\")\n"
   ]
  },
  {
   "cell_type": "code",
   "execution_count": null,
   "metadata": {
    "colab": {
     "base_uri": "https://localhost:8080/"
    },
    "executionInfo": {
     "elapsed": 312,
     "status": "ok",
     "timestamp": 1733404668546,
     "user": {
      "displayName": "Mirjalol Narzullayev",
      "userId": "03235431575959945784"
     },
     "user_tz": -300
    },
    "id": "WeLIV4V5Q-gq",
    "outputId": "52bf0603-56a4-4bf5-d4e8-29e27e2980fa"
   },
   "outputs": [],
   "source": [
    "from collections import Counter\n",
    "\n",
    "print(Counter(y_train))\n"
   ]
  },
  {
   "cell_type": "markdown",
   "metadata": {},
   "source": [
    "K-NN algoritmida VGG16 modelining qo'llanilishi."
   ]
  },
  {
   "cell_type": "code",
   "execution_count": null,
   "metadata": {
    "colab": {
     "base_uri": "https://localhost:8080/"
    },
    "executionInfo": {
     "elapsed": 841,
     "status": "ok",
     "timestamp": 1733552213740,
     "user": {
      "displayName": "Mirjalol Narzullayev",
      "userId": "03235431575959945784"
     },
     "user_tz": -300
    },
    "id": "Ed3wDOQ6wSqm",
    "outputId": "6e4f43ae-415c-4731-a4be-c0071546df54"
   },
   "outputs": [],
   "source": [
    "import os\n",
    "import numpy as np\n",
    "from google.colab import drive\n",
    "from sklearn.neighbors import KNeighborsClassifier\n",
    "from sklearn.preprocessing import LabelEncoder\n",
    "from sklearn.model_selection import train_test_split\n",
    "from tensorflow.keras.preprocessing.image import ImageDataGenerator\n",
    "from tensorflow.keras.applications import VGG16\n",
    "from tensorflow.keras.applications.vgg16 import preprocess_input\n",
    "from tensorflow.keras.preprocessing.image import img_to_array, load_img\n",
    "from sklearn.decomposition import PCA\n",
    "from tensorflow.keras.applications import ResNet50\n",
    "from sklearn.metrics import accuracy_score\n",
    "\n",
    "knn_vgg16 = KNeighborsClassifier(n_neighbors=1)\n",
    "knn_pca = KNeighborsClassifier(n_neighbors=1)\n",
    "knn_res = KNeighborsClassifier(n_neighbors=1)\n",
    "\n",
    "model_res_net = ResNet50(weights='imagenet', include_top=False, input_shape=(256, 256, 3))\n",
    "\n",
    "# 1. Data Preparation\n",
    "def load_images_from_directory(directory, target_size=(256, 256)):\n",
    "    images = []\n",
    "    labels = []\n",
    "    for label in os.listdir(directory):\n",
    "        class_dir = os.path.join(directory, label)\n",
    "        if os.path.isdir(class_dir):\n",
    "            for img_file in os.listdir(class_dir):\n",
    "                img_path = os.path.join(class_dir, img_file)\n",
    "                img = load_img(img_path, target_size=target_size)\n",
    "                img_array = img_to_array(img)\n",
    "                images.append(img_array)\n",
    "                labels.append(label)\n",
    "    return np.array(images), np.array(labels)\n",
    "\n",
    "# 2. Data Generators (Augmentation)\n",
    "def create_data_generators(train_images, train_labels, val_images, val_labels, batch_size=32):\n",
    "    train_gen = ImageDataGenerator(preprocessing_function=preprocess_input)\n",
    "    val_gen = ImageDataGenerator(preprocessing_function=preprocess_input)\n",
    "\n",
    "    train_generator = train_gen.flow(train_images, train_labels, batch_size=batch_size)\n",
    "    val_generator = val_gen.flow(val_images, val_labels, batch_size=batch_size)\n",
    "\n",
    "    return train_generator, val_generator\n",
    "\n",
    "# 3. Using VGG16 to extract features\n",
    "def load_vgg16_model():\n",
    "    vgg16 = VGG16(weights='imagenet', include_top=False, input_shape=(256, 256, 3))\n",
    "    return vgg16\n",
    "\n",
    "# 4. Feature Extraction Function\n",
    "def extract_features(model, images):\n",
    "    features = model.predict(images)\n",
    "    return features.reshape(features.shape[0], -1)\n",
    "\n",
    "# Main function\n",
    "def main(data_dir):\n",
    "    # Load images and labels\n",
    "    images, labels = load_images_from_directory(data_dir)\n",
    "\n",
    "    # Normalize images\n",
    "    images = images / 255.0\n",
    "\n",
    "    # Encode labels\n",
    "    label_encoder = LabelEncoder()\n",
    "    encoded_labels = label_encoder.fit_transform(labels)\n",
    "\n",
    "    # Split data\n",
    "    X_train, X_test, y_train, y_test = train_test_split(images, encoded_labels, test_size=0.2, random_state=42)\n",
    "\n",
    "    # # Load VGG16 model\n",
    "    # vgg16_model = load_vgg16_model()\n",
    "\n",
    "    # # Extract features from training and validation data\n",
    "    # train_X = extract_features(vgg16_model, preprocess_input(X_train))\n",
    "    # test_X = extract_features(vgg16_model, preprocess_input(X_test))\n",
    "\n",
    "    # Extract features from training and validation data\n",
    "    X_train_res = extract_features(model_res_net, preprocess_input(X_train))\n",
    "    X_test_res = extract_features(model_res_net, preprocess_input(X_test))\n",
    "\n",
    "    # 5. K-NN Classification\n",
    "\n",
    "    # knn_vgg16.fit(train_X, y_train)################################################################################################\n",
    "\n",
    "    # # Validate the model\n",
    "    # accuracy = knn_vgg16.score(test_X, y_test)\n",
    "    # print(f\"Validation Accuracy: {accuracy * 100:.2f}%\")\n",
    "\n",
    "    # pca = PCA(n_components=100)  # Faqat 100 asosiy xususiyat\n",
    "    # X_train_pca = pca.fit_transform(train_X)\n",
    "    # X_test_pca = pca.transform(test_X)\n",
    "\n",
    "\n",
    "    # knn_pca.fit(X_train_pca, y_train)####################################################################################################\n",
    "\n",
    "    # accuracy_pca = knn_pca.score(X_test_pca, y_test)\n",
    "    # print(f\"Accuracy after PCA: {accuracy_pca * 100:.2f}%\")\n",
    "\n",
    "\n",
    "    res_pca = PCA(n_components=100)  # Faqat 100 asosiy xususiyat\n",
    "    X_train_res_pca = res_pca.fit_transform(X_train_res)\n",
    "    X_test_res_pca = res_pca.transform(X_test_res)\n",
    "\n",
    "    knn_res.fit(X_train_res_pca, y_train)####################################################################################################\n",
    "\n",
    "    # Validate the model\n",
    "    accuracy_res_pca = knn_res.score(X_test_res_pca, y_test)\n",
    "    print(f\"Validation Accuracy: {accuracy_res_pca * 100:.2f}%\")\n",
    "\n",
    "    # print(f\"Shape of train_X: {train_X.shape}\")\n",
    "    # print(f\"Labels (y_train): {y_train}\")\n",
    "\n",
    "    # print(f\"Shape of X_train_pca: {X_train_pca.shape}\")\n",
    "    # print(f\"Labels (y_test): {y_test}\")\n",
    "\n",
    "    print(f\"Shape of X_train_res_pca: {X_train_res_pca.shape}\")\n",
    "    print(f\"Labels (y_test): {y_train}\")\n",
    "\n",
    "# Directory of the dataset\n",
    "# Google Drive ni ulash\n",
    "drive.mount('/content/drive')\n",
    "data_dir = \"/content/drive/My Drive/Colab Notebooks/Agrar_uchun/v\"\n",
    "main(data_dir)\n",
    "\n"
   ]
  }
 ],
 "metadata": {
  "colab": {
   "authorship_tag": "ABX9TyMvhuYPdH691SWrxE1uJUdX",
   "provenance": []
  },
  "kernelspec": {
   "display_name": "Python 3",
   "name": "python3"
  },
  "language_info": {
   "codemirror_mode": {
    "name": "ipython",
    "version": 3
   },
   "file_extension": ".py",
   "mimetype": "text/x-python",
   "name": "python",
   "nbconvert_exporter": "python",
   "pygments_lexer": "ipython3",
   "version": "3.12.8"
  }
 },
 "nbformat": 4,
 "nbformat_minor": 0
}
